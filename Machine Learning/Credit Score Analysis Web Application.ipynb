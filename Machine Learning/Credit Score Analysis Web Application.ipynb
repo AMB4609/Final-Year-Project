{
 "cells": [
  {
   "cell_type": "markdown",
   "id": "e0c634c9",
   "metadata": {},
   "source": [
    "# Final Year Project"
   ]
  },
  {
   "cell_type": "markdown",
   "id": "21cc41d7",
   "metadata": {},
   "source": [
    "## 22067567 Amogh Man Bajracharya"
   ]
  },
  {
   "cell_type": "markdown",
   "id": "1c9887d0",
   "metadata": {},
   "source": [
    "## Imports"
   ]
  },
  {
   "cell_type": "code",
   "execution_count": 1,
   "id": "b15ae7a7",
   "metadata": {},
   "outputs": [],
   "source": [
    "import pandas as pd\n",
    "import numpy as np\n",
    "import matplotlib.pyplot as plt\n",
    "from sklearn.model_selection import train_test_split\n",
    "from sklearn.linear_model import LinearRegression\n",
    "from sklearn.metrics import mean_squared_error, r2_score\n",
    "import skl2onnx\n",
    "from skl2onnx import convert_sklearn\n",
    "from skl2onnx.common.data_types import FloatTensorType\n",
    "import joblib\n",
    "import json"
   ]
  },
  {
   "cell_type": "code",
   "execution_count": 2,
   "id": "8ec39961",
   "metadata": {},
   "outputs": [
    {
     "name": "stderr",
     "output_type": "stream",
     "text": [
      "C:\\Users\\legion\\AppData\\Local\\Temp\\ipykernel_21304\\776894560.py:2: DtypeWarning: Columns (26) have mixed types. Specify dtype option on import or set low_memory=False.\n",
      "  train=pd.read_csv('train.csv')\n"
     ]
    }
   ],
   "source": [
    "#Reading both dataset and combining\n",
    "train=pd.read_csv('train.csv')\n",
    "test=pd.read_csv('test.csv')\n",
    "combined_data = pd.concat([train, test], ignore_index=True)"
   ]
  },
  {
   "cell_type": "code",
   "execution_count": 3,
   "id": "e1538a1d",
   "metadata": {},
   "outputs": [
    {
     "name": "stdout",
     "output_type": "stream",
     "text": [
      "<class 'pandas.core.frame.DataFrame'>\n",
      "RangeIndex: 150000 entries, 0 to 149999\n",
      "Data columns (total 28 columns):\n",
      " #   Column                    Non-Null Count   Dtype  \n",
      "---  ------                    --------------   -----  \n",
      " 0   ID                        150000 non-null  object \n",
      " 1   Customer_ID               150000 non-null  object \n",
      " 2   Month                     150000 non-null  object \n",
      " 3   Name                      135000 non-null  object \n",
      " 4   Age                       150000 non-null  object \n",
      " 5   SSN                       150000 non-null  object \n",
      " 6   Occupation                150000 non-null  object \n",
      " 7   Annual_Income             150000 non-null  object \n",
      " 8   Monthly_Inhand_Salary     127500 non-null  float64\n",
      " 9   Num_Bank_Accounts         150000 non-null  int64  \n",
      " 10  Num_Credit_Card           150000 non-null  int64  \n",
      " 11  Interest_Rate             150000 non-null  int64  \n",
      " 12  Num_of_Loan               150000 non-null  object \n",
      " 13  Type_of_Loan              132888 non-null  object \n",
      " 14  Delay_from_due_date       150000 non-null  int64  \n",
      " 15  Num_of_Delayed_Payment    139500 non-null  object \n",
      " 16  Changed_Credit_Limit      150000 non-null  object \n",
      " 17  Num_Credit_Inquiries      147000 non-null  float64\n",
      " 18  Credit_Mix                150000 non-null  object \n",
      " 19  Outstanding_Debt          150000 non-null  object \n",
      " 20  Credit_Utilization_Ratio  150000 non-null  float64\n",
      " 21  Credit_History_Age        136500 non-null  object \n",
      " 22  Payment_of_Min_Amount     150000 non-null  object \n",
      " 23  Total_EMI_per_month       150000 non-null  float64\n",
      " 24  Amount_invested_monthly   143250 non-null  object \n",
      " 25  Payment_Behaviour         150000 non-null  object \n",
      " 26  Monthly_Balance           148238 non-null  object \n",
      " 27  Credit_Score              100000 non-null  object \n",
      "dtypes: float64(4), int64(4), object(20)\n",
      "memory usage: 32.0+ MB\n",
      "None\n"
     ]
    }
   ],
   "source": [
    "print(combined_data.info())"
   ]
  },
  {
   "cell_type": "code",
   "execution_count": 4,
   "id": "55a88c77",
   "metadata": {},
   "outputs": [
    {
     "name": "stdout",
     "output_type": "stream",
     "text": [
      "       ID Customer_ID     Month           Name   Age          SSN Occupation  \\\n",
      "0  0x1602   CUS_0xd40   January  Aaron Maashoh    23  821-00-0265  Scientist   \n",
      "1  0x1603   CUS_0xd40  February  Aaron Maashoh    23  821-00-0265  Scientist   \n",
      "2  0x1604   CUS_0xd40     March  Aaron Maashoh  -500  821-00-0265  Scientist   \n",
      "3  0x1605   CUS_0xd40     April  Aaron Maashoh    23  821-00-0265  Scientist   \n",
      "4  0x1606   CUS_0xd40       May  Aaron Maashoh    23  821-00-0265  Scientist   \n",
      "\n",
      "  Annual_Income  Monthly_Inhand_Salary  Num_Bank_Accounts  ...  Credit_Mix  \\\n",
      "0      19114.12            1824.843333                  3  ...           _   \n",
      "1      19114.12                    NaN                  3  ...        Good   \n",
      "2      19114.12                    NaN                  3  ...        Good   \n",
      "3      19114.12                    NaN                  3  ...        Good   \n",
      "4      19114.12            1824.843333                  3  ...        Good   \n",
      "\n",
      "   Outstanding_Debt Credit_Utilization_Ratio     Credit_History_Age  \\\n",
      "0            809.98                26.822620  22 Years and 1 Months   \n",
      "1            809.98                31.944960                    NaN   \n",
      "2            809.98                28.609352  22 Years and 3 Months   \n",
      "3            809.98                31.377862  22 Years and 4 Months   \n",
      "4            809.98                24.797347  22 Years and 5 Months   \n",
      "\n",
      "   Payment_of_Min_Amount Total_EMI_per_month Amount_invested_monthly  \\\n",
      "0                     No           49.574949       80.41529543900253   \n",
      "1                     No           49.574949      118.28022162236736   \n",
      "2                     No           49.574949         81.699521264648   \n",
      "3                     No           49.574949       199.4580743910713   \n",
      "4                     No           49.574949      41.420153086217326   \n",
      "\n",
      "                  Payment_Behaviour     Monthly_Balance Credit_Score  \n",
      "0   High_spent_Small_value_payments  312.49408867943663         Good  \n",
      "1    Low_spent_Large_value_payments  284.62916249607184         Good  \n",
      "2   Low_spent_Medium_value_payments   331.2098628537912         Good  \n",
      "3    Low_spent_Small_value_payments  223.45130972736786         Good  \n",
      "4  High_spent_Medium_value_payments  341.48923103222177         Good  \n",
      "\n",
      "[5 rows x 28 columns]\n"
     ]
    }
   ],
   "source": [
    "print(combined_data.head())"
   ]
  },
  {
   "cell_type": "code",
   "execution_count": 5,
   "id": "e1608922",
   "metadata": {},
   "outputs": [
    {
     "name": "stdout",
     "output_type": "stream",
     "text": [
      "Dataset has 150000 rows and 28 columns.\n"
     ]
    }
   ],
   "source": [
    "print(f\"Dataset has {combined_data.shape[0]} rows and {combined_data.shape[1]} columns.\")"
   ]
  },
  {
   "cell_type": "code",
   "execution_count": 6,
   "id": "5bfc5707",
   "metadata": {},
   "outputs": [],
   "source": [
    "combined_data.drop_duplicates(inplace=True)"
   ]
  },
  {
   "cell_type": "code",
   "execution_count": 7,
   "id": "c2412fe3",
   "metadata": {},
   "outputs": [],
   "source": [
    "def parse_credit_age(age_str):\n",
    "    if pd.isna(age_str):\n",
    "        return None\n",
    "    parts = age_str.split(' ')\n",
    "    years = int(parts[0])\n",
    "    months = int(parts[3]) if len(parts) > 3 else 0\n",
    "    return years * 12 + months"
   ]
  },
  {
   "cell_type": "code",
   "execution_count": 8,
   "id": "a74462c4",
   "metadata": {},
   "outputs": [],
   "source": [
    "combined_data['Credit_History_Age_Months'] = combined_data['Credit_History_Age'].apply(parse_credit_age)\n",
    "combined_data['Credit_History_Age_Months'].fillna(combined_data['Credit_History_Age_Months'].median(), inplace=True)"
   ]
  },
  {
   "cell_type": "code",
   "execution_count": 9,
   "id": "4f057b2b",
   "metadata": {},
   "outputs": [],
   "source": [
    "combined_data['Num_of_Delayed_Payment'].fillna(0, inplace=True)"
   ]
  },
  {
   "cell_type": "code",
   "execution_count": 10,
   "id": "e9b7631a",
   "metadata": {},
   "outputs": [],
   "source": [
    "for column in combined_data.select_dtypes(include=['float64', 'int64']).columns:\n",
    "    combined_data[column].fillna(combined_data[column].median(), inplace=True)"
   ]
  },
  {
   "cell_type": "code",
   "execution_count": 11,
   "id": "14eea423",
   "metadata": {},
   "outputs": [],
   "source": [
    "def convert_to_float(x):\n",
    "    try:\n",
    "        return float(x)\n",
    "    except:\n",
    "        return None"
   ]
  },
  {
   "cell_type": "code",
   "execution_count": 12,
   "id": "7fd5b924",
   "metadata": {},
   "outputs": [
    {
     "name": "stdout",
     "output_type": "stream",
     "text": [
      "            Name  Credit_Mix_Number  Max_Credit_Mix_Number\n",
      "0  Aaron Maashoh                  5                    5.0\n",
      "1  Aaron Maashoh                  5                    5.0\n",
      "2  Aaron Maashoh                  5                    5.0\n",
      "3  Aaron Maashoh                  5                    5.0\n",
      "4  Aaron Maashoh                  5                    5.0\n"
     ]
    }
   ],
   "source": [
    "# Calculate the Credit Mix Number for each row\n",
    "def calculate_credit_mix(row):\n",
    "    credit_types = set()\n",
    "    if row['Num_Credit_Card'] > 0:\n",
    "        credit_types.add('Credit Card')\n",
    "    if pd.notna(row['Type_of_Loan']):\n",
    "        loans = row['Type_of_Loan'].split(',')\n",
    "        for loan in loans:\n",
    "            credit_types.add(loan.strip())\n",
    "    return len(credit_types)\n",
    "\n",
    "combined_data['Credit_Mix_Number'] = combined_data.apply(calculate_credit_mix, axis=1)\n",
    "\n",
    "# Find the maximum Credit Mix Number for each individual\n",
    "max_credit_mix_by_individual = combined_data.groupby('Name')['Credit_Mix_Number'].max()\n",
    "\n",
    "# Map this max value back to each row for consistency across an individual's records\n",
    "combined_data['Max_Credit_Mix_Number'] = combined_data['Name'].map(max_credit_mix_by_individual)\n",
    "\n",
    "# Print some results to verify\n",
    "print(combined_data[['Name', 'Credit_Mix_Number', 'Max_Credit_Mix_Number']].head())"
   ]
  },
  {
   "cell_type": "code",
   "execution_count": 13,
   "id": "3ed14c11",
   "metadata": {},
   "outputs": [],
   "source": [
    "features_to_normalize = ['Credit_Utilization_Ratio', 'Credit_History_Age_Months', 'Num_of_Delayed_Payment', 'Num_Credit_Inquiries','Credit_Mix_Number']"
   ]
  },
  {
   "cell_type": "code",
   "execution_count": 14,
   "id": "f8f08d0b",
   "metadata": {},
   "outputs": [],
   "source": [
    "for feature in features_to_normalize:\n",
    "    # Convert to string, remove non-numeric characters if necessary, then convert to float\n",
    "    combined_data[feature] = combined_data[feature].astype(str).str.extract('(\\d+.\\d+|\\d+)')[0].apply(convert_to_float)"
   ]
  },
  {
   "cell_type": "code",
   "execution_count": 15,
   "id": "97fcdf75",
   "metadata": {},
   "outputs": [],
   "source": [
    "for feature in features_to_normalize:\n",
    "    combined_data[feature].fillna(combined_data[feature].median(), inplace=True)"
   ]
  },
  {
   "cell_type": "code",
   "execution_count": 16,
   "id": "206c629f",
   "metadata": {},
   "outputs": [],
   "source": [
    "min_max_values = {}\n",
    "for feature in features_to_normalize:\n",
    "    max_val = combined_data[feature].max()\n",
    "    min_val = combined_data[feature].min()\n",
    "    combined_data[feature + '_norm'] = (combined_data[feature] - min_val) / (max_val - min_val)\n",
    "    min_max_values[feature] = {'min': min_val, 'max': max_val}"
   ]
  },
  {
   "cell_type": "code",
   "execution_count": 17,
   "id": "96e2f76f",
   "metadata": {},
   "outputs": [
    {
     "name": "stdout",
     "output_type": "stream",
     "text": [
      "   Credit_Utilization_Ratio  Credit_History_Age_Months  \\\n",
      "0                 26.822620                      265.0   \n",
      "1                 31.944960                      222.0   \n",
      "2                 28.609352                      267.0   \n",
      "3                 31.377862                      268.0   \n",
      "4                 24.797347                      269.0   \n",
      "\n",
      "   Num_of_Delayed_Payment  Num_Credit_Inquiries  Credit_Mix_Number  \\\n",
      "0                     7.0                   4.0                5.0   \n",
      "1                     0.0                   4.0                5.0   \n",
      "2                     7.0                   4.0                5.0   \n",
      "3                     4.0                   4.0                5.0   \n",
      "4                     0.0                   4.0                5.0   \n",
      "\n",
      "   Credit_Utilization_Ratio_norm  Credit_History_Age_Months_norm  \\\n",
      "0                       0.227421                        0.648649   \n",
      "1                       0.398165                        0.542998   \n",
      "2                       0.286978                        0.653563   \n",
      "3                       0.379262                        0.656020   \n",
      "4                       0.159912                        0.658477   \n",
      "\n",
      "   Num_of_Delayed_Payment_norm  Num_Credit_Inquiries_norm  \\\n",
      "0                     0.001591                    0.00154   \n",
      "1                     0.000000                    0.00154   \n",
      "2                     0.001591                    0.00154   \n",
      "3                     0.000909                    0.00154   \n",
      "4                     0.000000                    0.00154   \n",
      "\n",
      "   Credit_Mix_Number_norm  \n",
      "0                     0.5  \n",
      "1                     0.5  \n",
      "2                     0.5  \n",
      "3                     0.5  \n",
      "4                     0.5  \n"
     ]
    }
   ],
   "source": [
    "print(combined_data[features_to_normalize + [f\"{f}_norm\" for f in features_to_normalize]].head())"
   ]
  },
  {
   "cell_type": "code",
   "execution_count": 18,
   "id": "b62e8e82",
   "metadata": {},
   "outputs": [],
   "source": [
    "combined_data['FICO_score_estimation'] = (\n",
    "    0.35 * (1 - combined_data['Num_of_Delayed_Payment_norm']) +  # Less delayed = better\n",
    "    0.30 * (1 - combined_data['Credit_Utilization_Ratio_norm']) +  # Less utilization = better\n",
    "    0.15 * combined_data['Credit_History_Age_Months_norm'] +  # More age = better\n",
    "    0.10 * (1 - combined_data['Num_Credit_Inquiries_norm']) +  # Less inquiries = better\n",
    "    0.10 * combined_data['Credit_Mix_Number_norm']  # Good mix = better\n",
    ") * 550 + 300"
   ]
  },
  {
   "cell_type": "code",
   "execution_count": 19,
   "id": "e9de5a44",
   "metadata": {},
   "outputs": [
    {
     "name": "stdout",
     "output_type": "stream",
     "text": [
      "   FICO_score_estimation\n",
      "0             755.598073\n",
      "1             719.015304\n",
      "2             746.176450\n",
      "3             731.283628\n",
      "4             767.854203\n"
     ]
    }
   ],
   "source": [
    "print(combined_data[['FICO_score_estimation']].head())"
   ]
  },
  {
   "cell_type": "code",
   "execution_count": 20,
   "id": "7c172c7e",
   "metadata": {},
   "outputs": [
    {
     "name": "stdout",
     "output_type": "stream",
     "text": [
      "        FICO_score_estimation\n",
      "0                  755.598073\n",
      "1                  719.015304\n",
      "2                  746.176450\n",
      "3                  731.283628\n",
      "4                  767.854203\n",
      "...                       ...\n",
      "149995             707.656118\n",
      "149996             763.612314\n",
      "149997             713.546106\n",
      "149998             701.157911\n",
      "149999             729.076580\n",
      "\n",
      "[150000 rows x 1 columns]\n"
     ]
    }
   ],
   "source": [
    "print(combined_data[['FICO_score_estimation']])"
   ]
  },
  {
   "cell_type": "code",
   "execution_count": 21,
   "id": "97cb0f19",
   "metadata": {},
   "outputs": [],
   "source": [
    "max_score_index = combined_data['FICO_score_estimation'].idxmax()"
   ]
  },
  {
   "cell_type": "code",
   "execution_count": 22,
   "id": "b9c5ce45",
   "metadata": {},
   "outputs": [
    {
     "name": "stdout",
     "output_type": "stream",
     "text": [
      "ID                                                                          0x1f7cb\n",
      "Customer_ID                                                              CUS_0xb518\n",
      "Month                                                                      February\n",
      "Name                                                                      Nobuhirot\n",
      "Age                                                                              49\n",
      "SSN                                                                     067-00-6687\n",
      "Occupation                                                               Accountant\n",
      "Annual_Income                                                             127855.83\n",
      "Monthly_Inhand_Salary                                                    10511.6525\n",
      "Num_Bank_Accounts                                                                 5\n",
      "Num_Credit_Card                                                                   7\n",
      "Interest_Rate                                                                     1\n",
      "Num_of_Loan                                                                       4\n",
      "Type_of_Loan                      Payday Loan, Personal Loan, Debt Consolidation...\n",
      "Delay_from_due_date                                                               8\n",
      "Num_of_Delayed_Payment                                                         13.0\n",
      "Changed_Credit_Limit                                                           14.2\n",
      "Num_Credit_Inquiries                                                            3.0\n",
      "Credit_Mix                                                                     Good\n",
      "Outstanding_Debt                                                             534.08\n",
      "Credit_Utilization_Ratio                                                  21.207252\n",
      "Credit_History_Age                                           32 Years and 10 Months\n",
      "Payment_of_Min_Amount                                                            No\n",
      "Total_EMI_per_month                                                      366.512614\n",
      "Amount_invested_monthly                                           969.9613917350888\n",
      "Payment_Behaviour                                   Low_spent_Medium_value_payments\n",
      "Monthly_Balance                                                                 NaN\n",
      "Credit_Score                                                               Standard\n",
      "Credit_History_Age_Months                                                     394.0\n",
      "Credit_Mix_Number                                                               5.0\n",
      "Max_Credit_Mix_Number                                                           5.0\n",
      "Credit_Utilization_Ratio_norm                                              0.040242\n",
      "Credit_History_Age_Months_norm                                             0.965602\n",
      "Num_of_Delayed_Payment_norm                                                0.002955\n",
      "Num_Credit_Inquiries_norm                                                  0.001155\n",
      "Credit_Mix_Number_norm                                                          0.5\n",
      "FICO_score_estimation                                                    812.389864\n",
      "Name: 82225, dtype: object\n"
     ]
    }
   ],
   "source": [
    "highest_score_row = combined_data.loc[max_score_index]\n",
    "print(highest_score_row)"
   ]
  },
  {
   "cell_type": "code",
   "execution_count": 23,
   "id": "3321e5f1",
   "metadata": {},
   "outputs": [
    {
     "name": "stdout",
     "output_type": "stream",
     "text": [
      "CSV file saved successfully!\n"
     ]
    }
   ],
   "source": [
    "columns_to_save = [\n",
    "    \"Num_of_Delayed_Payment_norm\",\n",
    "    \"Credit_Utilization_Ratio_norm\",\n",
    "    \"Credit_History_Age_Months_norm\",\n",
    "    \"Num_Credit_Inquiries_norm\",\n",
    "    'Credit_Mix_Number_norm',\n",
    "    \"FICO_score_estimation\"\n",
    "]\n",
    "\n",
    "# Save the dataset to a CSV file\n",
    "combined_data[columns_to_save].to_csv(\"processed_combined_data.csv\", index=False)\n",
    "\n",
    "print(\"CSV file saved successfully!\")"
   ]
  },
  {
   "cell_type": "code",
   "execution_count": 24,
   "id": "63cd0f1f",
   "metadata": {},
   "outputs": [],
   "source": [
    "processed_data = pd.read_csv(\"processed_combined_data.csv\")\n"
   ]
  },
  {
   "cell_type": "code",
   "execution_count": 25,
   "id": "55740898",
   "metadata": {},
   "outputs": [
    {
     "name": "stdout",
     "output_type": "stream",
     "text": [
      "   Num_of_Delayed_Payment_norm  Credit_Utilization_Ratio_norm  \\\n",
      "0                     0.001591                       0.227421   \n",
      "1                     0.000000                       0.398165   \n",
      "2                     0.001591                       0.286978   \n",
      "3                     0.000909                       0.379262   \n",
      "4                     0.000000                       0.159912   \n",
      "\n",
      "   Credit_History_Age_Months_norm  Num_Credit_Inquiries_norm  \\\n",
      "0                        0.648649                    0.00154   \n",
      "1                        0.542998                    0.00154   \n",
      "2                        0.653563                    0.00154   \n",
      "3                        0.656020                    0.00154   \n",
      "4                        0.658477                    0.00154   \n",
      "\n",
      "   Credit_Mix_Number_norm  FICO_score_estimation  \n",
      "0                     0.5             755.598073  \n",
      "1                     0.5             719.015304  \n",
      "2                     0.5             746.176450  \n",
      "3                     0.5             731.283628  \n",
      "4                     0.5             767.854203  \n"
     ]
    }
   ],
   "source": [
    "print(processed_data.head())"
   ]
  },
  {
   "cell_type": "code",
   "execution_count": 26,
   "id": "7b1e77b0",
   "metadata": {},
   "outputs": [],
   "source": [
    "features = [\n",
    "    \"Num_of_Delayed_Payment_norm\",\n",
    "    \"Credit_Utilization_Ratio_norm\",\n",
    "    \"Credit_History_Age_Months_norm\",\n",
    "    \"Num_Credit_Inquiries_norm\",\n",
    "    'Credit_Mix_Number_norm',\n",
    "]"
   ]
  },
  {
   "cell_type": "code",
   "execution_count": 27,
   "id": "df2254ea",
   "metadata": {},
   "outputs": [],
   "source": [
    "target = \"FICO_score_estimation\""
   ]
  },
  {
   "cell_type": "code",
   "execution_count": 28,
   "id": "03afce4c",
   "metadata": {},
   "outputs": [
    {
     "name": "stdout",
     "output_type": "stream",
     "text": [
      "✅ All required columns are present.\n"
     ]
    }
   ],
   "source": [
    "if all(feature in processed_data.columns for feature in features) and target in processed_data.columns:\n",
    "    print(\"✅ All required columns are present.\")\n",
    "else:\n",
    "    missing_features = [feature for feature in features if feature not in processed_data.columns]\n",
    "    print(f\"❌ Missing features: {missing_features}\")"
   ]
  },
  {
   "cell_type": "code",
   "execution_count": 29,
   "id": "5eada41b",
   "metadata": {},
   "outputs": [
    {
     "name": "stdout",
     "output_type": "stream",
     "text": [
      "Training set size: 120000 rows\n",
      "Testing set size: 30000 rows\n"
     ]
    }
   ],
   "source": [
    "# Extract features (X) and target (y)\n",
    "X = processed_data[features]\n",
    "y = processed_data[target]\n",
    "\n",
    "# Split into training (80%) and testing (20%) datasets\n",
    "X_train, X_test, y_train, y_test = train_test_split(X, y, test_size=0.2, random_state=42)\n",
    "\n",
    "print(f\"Training set size: {X_train.shape[0]} rows\")\n",
    "print(f\"Testing set size: {X_test.shape[0]} rows\")"
   ]
  },
  {
   "cell_type": "code",
   "execution_count": 30,
   "id": "2a782d9f",
   "metadata": {},
   "outputs": [
    {
     "name": "stdout",
     "output_type": "stream",
     "text": [
      "✅ Model training complete.\n"
     ]
    }
   ],
   "source": [
    "# Initialize and train the Linear Regression model\n",
    "model = LinearRegression()\n",
    "model.fit(X_train, y_train)\n",
    "\n",
    "print(\"✅ Model training complete.\")"
   ]
  },
  {
   "cell_type": "code",
   "execution_count": 31,
   "id": "18a0f945",
   "metadata": {},
   "outputs": [
    {
     "name": "stdout",
     "output_type": "stream",
     "text": [
      "✅ Predictions generated.\n"
     ]
    }
   ],
   "source": [
    "# Predict on test set\n",
    "y_pred = model.predict(X_test)\n",
    "\n",
    "# Predict on the entire dataset\n",
    "processed_data[\"FICO_score_prediction\"] = model.predict(X)\n",
    "\n",
    "print(\"✅ Predictions generated.\")\n"
   ]
  },
  {
   "cell_type": "code",
   "execution_count": 32,
   "id": "74d414f4",
   "metadata": {},
   "outputs": [
    {
     "name": "stdout",
     "output_type": "stream",
     "text": [
      "📊 Model Performance Metrics:\n",
      "Mean Squared Error (MSE): 0.00\n",
      "Root Mean Squared Error (RMSE): 0.00\n",
      "R-squared (R²): 1.0000\n"
     ]
    }
   ],
   "source": [
    "# Calculate evaluation metrics\n",
    "mse = mean_squared_error(y_test, y_pred)\n",
    "rmse = np.sqrt(mse)\n",
    "r2 = r2_score(y_test, y_pred)\n",
    "\n",
    "# Print results\n",
    "print(f\"📊 Model Performance Metrics:\")\n",
    "print(f\"Mean Squared Error (MSE): {mse:.2f}\")\n",
    "print(f\"Root Mean Squared Error (RMSE): {rmse:.2f}\")\n",
    "print(f\"R-squared (R²): {r2:.4f}\")\n"
   ]
  },
  {
   "cell_type": "code",
   "execution_count": 33,
   "id": "8e59fa42",
   "metadata": {},
   "outputs": [
    {
     "name": "stdout",
     "output_type": "stream",
     "text": [
      "✅ Model saved as credit_score_model.pkl\n"
     ]
    }
   ],
   "source": [
    "import joblib\n",
    "\n",
    "# Save the trained model\n",
    "joblib.dump(model, \"credit_score_model.pkl\")\n",
    "\n",
    "print(\"✅ Model saved as credit_score_model.pkl\")\n",
    "\n"
   ]
  },
  {
   "cell_type": "code",
   "execution_count": 34,
   "id": "91589632",
   "metadata": {},
   "outputs": [
    {
     "name": "stdout",
     "output_type": "stream",
     "text": [
      "Predicted Credit Score: [949.]\n"
     ]
    },
    {
     "name": "stderr",
     "output_type": "stream",
     "text": [
      "G:\\fourth sem islington\\anaconda\\Lib\\site-packages\\sklearn\\base.py:464: UserWarning: X does not have valid feature names, but LinearRegression was fitted with feature names\n",
      "  warnings.warn(\n"
     ]
    }
   ],
   "source": [
    "import joblib\n",
    "\n",
    "# Load the trained model\n",
    "model = joblib.load(\"credit_score_model.pkl\")\n",
    "\n",
    "# Example input for prediction\n",
    "sample_input = [[1.2, 0, 5, 10,11]]\n",
    "prediction = model.predict(sample_input)\n",
    "\n",
    "print(\"Predicted Credit Score:\", prediction)\n"
   ]
  },
  {
   "cell_type": "code",
   "execution_count": 100,
   "id": "620dbcb6",
   "metadata": {},
   "outputs": [
    {
     "name": "stdout",
     "output_type": "stream",
     "text": [
      "ONNX model saved as credit_score_model.onnx\n"
     ]
    }
   ],
   "source": [
    "import joblib\n",
    "import skl2onnx\n",
    "from skl2onnx import convert_sklearn\n",
    "from skl2onnx.common.data_types import FloatTensorType\n",
    "\n",
    "# Load trained model\n",
    "model = joblib.load(\"credit_score_model.pkl\")\n",
    "\n",
    "# Define input shape (change 5 to your number of features)\n",
    "initial_type = [(\"float_input\", FloatTensorType([None, 5]))]\n",
    "\n",
    "# Convert model to ONNX format\n",
    "onnx_model = convert_sklearn(model, initial_types=initial_type)\n",
    "\n",
    "# Save ONNX model\n",
    "with open(\"credit_score_model.onnx\", \"wb\") as f:\n",
    "    f.write(onnx_model.SerializeToString())\n",
    "\n",
    "print(\"ONNX model saved as credit_score_model.onnx\")\n"
   ]
  },
  {
   "cell_type": "code",
   "execution_count": 35,
   "id": "28c5c8f8",
   "metadata": {},
   "outputs": [
    {
     "name": "stdout",
     "output_type": "stream",
     "text": [
      "C:\\Users\\legion\\Final Year Project\n"
     ]
    }
   ],
   "source": [
    "import os\n",
    "print(os.getcwd())\n"
   ]
  },
  {
   "cell_type": "code",
   "execution_count": 36,
   "id": "47a3adfa",
   "metadata": {},
   "outputs": [
    {
     "name": "stdout",
     "output_type": "stream",
     "text": [
      "3.11.5 | packaged by Anaconda, Inc. | (main, Sep 11 2023, 13:26:23) [MSC v.1916 64 bit (AMD64)]\n"
     ]
    }
   ],
   "source": [
    "import sys\n",
    "print(sys.version)\n"
   ]
  },
  {
   "cell_type": "code",
   "execution_count": 37,
   "id": "06289cac",
   "metadata": {},
   "outputs": [
    {
     "name": "stdout",
     "output_type": "stream",
     "text": [
      "C:\\Users\\legion\\Final Year Project\n"
     ]
    }
   ],
   "source": [
    "import os\n",
    "print(os.getcwd())\n"
   ]
  },
  {
   "cell_type": "code",
   "execution_count": 38,
   "id": "f7434e3a",
   "metadata": {},
   "outputs": [
    {
     "name": "stdout",
     "output_type": "stream",
     "text": [
      "ONNX IR Version: 9\n"
     ]
    }
   ],
   "source": [
    "import onnx\n",
    "\n",
    "model = onnx.load(\"credit_score_model_v9.onnx\")\n",
    "print(f\"ONNX IR Version: {model.ir_version}\")\n"
   ]
  },
  {
   "cell_type": "code",
   "execution_count": 39,
   "id": "38bdf811",
   "metadata": {},
   "outputs": [
    {
     "name": "stdout",
     "output_type": "stream",
     "text": [
      "Model successfully converted to IR version 9!\n"
     ]
    }
   ],
   "source": [
    "import onnx\n",
    "\n",
    "# Load the existing ONNX model\n",
    "model = onnx.load(\"credit_score_model.onnx\")\n",
    "\n",
    "# Change IR version to 9\n",
    "model.ir_version = 9\n",
    "\n",
    "# Save the converted model\n",
    "onnx.save(model, \"credit_score_model_v9.onnx\")\n",
    "\n",
    "print(\"Model successfully converted to IR version 9!\")\n"
   ]
  },
  {
   "cell_type": "code",
   "execution_count": 40,
   "id": "f1f6ca12",
   "metadata": {},
   "outputs": [
    {
     "name": "stdout",
     "output_type": "stream",
     "text": [
      "Requirement already satisfied: onnx in g:\\fourth sem islington\\anaconda\\lib\\site-packages (1.16.0)\n",
      "Requirement already satisfied: tf2onnx in g:\\fourth sem islington\\anaconda\\lib\\site-packages (1.16.1)\n",
      "Requirement already satisfied: numpy>=1.20 in g:\\fourth sem islington\\anaconda\\lib\\site-packages (from onnx) (1.24.3)\n",
      "Requirement already satisfied: protobuf>=3.20.2 in g:\\fourth sem islington\\anaconda\\lib\\site-packages (from onnx) (3.20.2)\n",
      "Requirement already satisfied: requests in g:\\fourth sem islington\\anaconda\\lib\\site-packages (from tf2onnx) (2.31.0)\n",
      "Requirement already satisfied: six in g:\\fourth sem islington\\anaconda\\lib\\site-packages (from tf2onnx) (1.16.0)\n",
      "Requirement already satisfied: flatbuffers>=1.12 in g:\\fourth sem islington\\anaconda\\lib\\site-packages (from tf2onnx) (25.2.10)\n",
      "Requirement already satisfied: charset-normalizer<4,>=2 in g:\\fourth sem islington\\anaconda\\lib\\site-packages (from requests->tf2onnx) (2.0.4)\n",
      "Requirement already satisfied: idna<4,>=2.5 in g:\\fourth sem islington\\anaconda\\lib\\site-packages (from requests->tf2onnx) (3.4)\n",
      "Requirement already satisfied: urllib3<3,>=1.21.1 in g:\\fourth sem islington\\anaconda\\lib\\site-packages (from requests->tf2onnx) (1.26.16)\n",
      "Requirement already satisfied: certifi>=2017.4.17 in g:\\fourth sem islington\\anaconda\\lib\\site-packages (from requests->tf2onnx) (2025.1.31)\n",
      "Note: you may need to restart the kernel to use updated packages.\n"
     ]
    }
   ],
   "source": [
    "pip install onnx tf2onnx\n"
   ]
  },
  {
   "cell_type": "code",
   "execution_count": 41,
   "id": "c59a79d4",
   "metadata": {},
   "outputs": [
    {
     "name": "stdout",
     "output_type": "stream",
     "text": [
      "Model successfully converted to opset 19!\n"
     ]
    }
   ],
   "source": [
    "import onnx\n",
    "\n",
    "# Load the original ONNX model\n",
    "model_path = \"credit_score_model.onnx\"\n",
    "model = onnx.load(model_path)\n",
    "\n",
    "# Convert opset version to 19\n",
    "converted_model = onnx.version_converter.convert_version(model, 19)\n",
    "\n",
    "# Save the new model\n",
    "onnx.save(converted_model, \"credit_score_model_v19.onnx\")\n",
    "\n",
    "print(\"Model successfully converted to opset 19!\")\n"
   ]
  },
  {
   "cell_type": "code",
   "execution_count": 42,
   "id": "e526845f",
   "metadata": {},
   "outputs": [
    {
     "name": "stdout",
     "output_type": "stream",
     "text": [
      "Model successfully converted!\n",
      "New IR Version: 9\n",
      "New Opset Version: 1\n",
      "New Opset Version: 19\n",
      "node {\n",
      "  input: \"float_input\"\n",
      "  output: \"variable\"\n",
      "  name: \"LinearRegressor\"\n",
      "  op_type: \"LinearRegressor\"\n",
      "  attribute {\n",
      "    name: \"coefficients\"\n",
      "    floats: 192.5\n",
      "    floats: 165.0\n",
      "    floats: 82.5\n",
      "    floats: 55.0\n",
      "    floats: 55.0\n",
      "    type: FLOATS\n",
      "  }\n",
      "  attribute {\n",
      "    name: \"intercepts\"\n",
      "    floats: 300.0\n",
      "    type: FLOATS\n",
      "  }\n",
      "  domain: \"ai.onnx.ml\"\n",
      "}\n",
      "name: \"f994eccd07734b178a80b7ee46c97454\"\n",
      "input {\n",
      "  name: \"float_input\"\n",
      "  type {\n",
      "    tensor_type {\n",
      "      elem_type: 1\n",
      "      shape {\n",
      "        dim {\n",
      "        }\n",
      "        dim {\n",
      "          dim_value: 5\n",
      "        }\n",
      "      }\n",
      "    }\n",
      "  }\n",
      "}\n",
      "output {\n",
      "  name: \"variable\"\n",
      "  type {\n",
      "    tensor_type {\n",
      "      elem_type: 1\n",
      "      shape {\n",
      "        dim {\n",
      "        }\n",
      "        dim {\n",
      "          dim_value: 1\n",
      "        }\n",
      "      }\n",
      "    }\n",
      "  }\n",
      "}\n",
      "\n"
     ]
    }
   ],
   "source": [
    "import onnx\n",
    "import onnxruntime as ort\n",
    "\n",
    "# Load the original ONNX model\n",
    "model_path = \"credit_score_model.onnx\"\n",
    "model = onnx.load(model_path)\n",
    "\n",
    "# Convert to Opset 19\n",
    "target_opset = 19\n",
    "converted_model = onnx.version_converter.convert_version(model, target_opset)\n",
    "\n",
    "# Set IR version to 9\n",
    "converted_model.ir_version = 9\n",
    "\n",
    "# Save the new model\n",
    "onnx.save(converted_model, \"credit_score_model_fixed.onnx\")\n",
    "\n",
    "# Verify conversion\n",
    "print(\"Model successfully converted!\")\n",
    "print(f\"New IR Version: {converted_model.ir_version}\")\n",
    "for opset in converted_model.opset_import:\n",
    "    print(f\"New Opset Version: {opset.version}\")\n",
    "# Print the model's graph\n",
    "print(model.graph)"
   ]
  },
  {
   "cell_type": "code",
   "execution_count": 43,
   "id": "b09a10ea",
   "metadata": {},
   "outputs": [
    {
     "name": "stdout",
     "output_type": "stream",
     "text": [
      "Input name: float_input\n"
     ]
    }
   ],
   "source": [
    "import onnx\n",
    "\n",
    "# Load the model\n",
    "model = onnx.load(\"credit_score_model_fixed.onnx\")\n",
    "\n",
    "# Print input names\n",
    "for input in model.graph.input:\n",
    "    print(f\"Input name: {input.name}\")\n"
   ]
  },
  {
   "cell_type": "code",
   "execution_count": 46,
   "id": "148d0e41",
   "metadata": {},
   "outputs": [
    {
     "name": "stdout",
     "output_type": "stream",
     "text": [
      "Input Name: float_input, Shape: [, dim_value: 5\n",
      "]\n"
     ]
    }
   ],
   "source": [
    "import onnx\n",
    "\n",
    "model = onnx.load(\"credit_score_model_fixed.onnx\")\n",
    "for input in model.graph.input:\n",
    "    print(f\"Input Name: {input.name}, Shape: {input.type.tensor_type.shape.dim}\")"
   ]
  },
  {
   "cell_type": "code",
   "execution_count": 45,
   "id": "f8570852",
   "metadata": {},
   "outputs": [],
   "source": [
    "\n",
    "# Path to save the JSON file\n",
    "json_file_path = 'min_max_values.json'\n",
    "\n",
    "# Write the dictionary to a JSON file\n",
    "with open(json_file_path, 'w') as json_file:\n",
    "    json.dump(min_max_values, json_file, indent=4)"
   ]
  },
  {
   "cell_type": "code",
   "execution_count": null,
   "id": "1e382f95",
   "metadata": {},
   "outputs": [],
   "source": []
  },
  {
   "cell_type": "code",
   "execution_count": null,
   "id": "37aca5a7",
   "metadata": {},
   "outputs": [],
   "source": []
  },
  {
   "cell_type": "code",
   "execution_count": null,
   "id": "838f2a5e",
   "metadata": {},
   "outputs": [],
   "source": []
  }
 ],
 "metadata": {
  "kernelspec": {
   "display_name": "Python 3 (ipykernel)",
   "language": "python",
   "name": "python3"
  },
  "language_info": {
   "codemirror_mode": {
    "name": "ipython",
    "version": 3
   },
   "file_extension": ".py",
   "mimetype": "text/x-python",
   "name": "python",
   "nbconvert_exporter": "python",
   "pygments_lexer": "ipython3",
   "version": "3.11.5"
  }
 },
 "nbformat": 4,
 "nbformat_minor": 5
}
